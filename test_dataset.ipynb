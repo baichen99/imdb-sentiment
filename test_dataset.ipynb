{
 "cells": [
  {
   "cell_type": "code",
   "execution_count": 1,
   "metadata": {},
   "outputs": [],
   "source": [
    "from build_dataset import IMDBDataset, build_dataloader"
   ]
  },
  {
   "cell_type": "code",
   "execution_count": 2,
   "metadata": {},
   "outputs": [],
   "source": [
    "imdb_dataset = IMDBDataset()\n",
    "data_iter = build_dataloader(imdb_dataset, batch_size=10)\n",
    "text, label = next(iter(data_iter))[0]"
   ]
  },
  {
   "cell_type": "code",
   "execution_count": 9,
   "metadata": {},
   "outputs": [
    {
     "name": "stdout",
     "output_type": "stream",
     "text": [
      "torch.Size([574]) torch.Size([])\n"
     ]
    }
   ],
   "source": [
    "print(text.shape, label.shape)"
   ]
  },
  {
   "cell_type": "code",
   "execution_count": 12,
   "metadata": {},
   "outputs": [
    {
     "data": {
      "text/plain": [
       "'a typical 70s italian coming of age film , original and good music , but with some quirks , interesting but not fantastic photography , poor and at times confused storyline ( e . g . the role of the wolf-dog , and where does the boy come from ? ) with poor dialogue , nice ambiance . the reason it is still ( relatively ) well-known and sought after is probably the nude scenes ( including typical 70s pseudo-coitus ) involving an 11 and 13 year old girl with an older teenage boy ( eva ionesco and laura wendel ) - it is interesting from a socio-political point of view to see how these representations of very young adolescents was considered acceptable and normal in the whole of europe ( and us ) 30 years ago , whereas now it is more than taboo . the story revolves round bullying of one girl ( laura ) by the other two characters , and her discovery of sex , a quite accurate representation of an aspect teenage life . the character of eva ( silvia ) does not evolve to the very end of the film and already appears very versed in the erotic arts - there is no coming of age for her she is a very vain young girl who is already aware of her sexual charms , but ultimately is just used and ends the film crying like the little girl she really still is . the boy is an utterly despicable bully , while laura comes across as a very naive and weak victim . [unk] [unk] [unk] [unk] [unk] [unk] [unk] [unk] [unk] [unk] [unk] [unk] [unk] [unk] [unk] [unk] [unk] [unk] [unk] [unk] [unk] [unk] [unk] [unk] [unk] [unk] [unk] [unk] [unk] [unk] [unk] [unk] [unk] [unk] [unk] [unk] [unk] [unk] [unk] [unk] [unk] [unk] [unk] [unk] [unk] [unk] [unk] [unk] [unk] [unk] [unk] [unk] [unk] [unk] [unk] [unk] [unk] [unk] [unk] [unk] [unk] [unk] [unk] [unk] [unk] [unk] [unk] [unk] [unk] [unk] [unk] [unk] [unk] [unk] [unk] [unk] [unk] [unk] [unk] [unk] [unk] [unk] [unk] [unk] [unk] [unk] [unk] [unk] [unk] [unk] [unk] [unk] [unk] [unk] [unk] [unk] [unk] [unk] [unk] [unk] [unk] [unk] [unk] [unk] [unk] [unk] [unk] [unk] [unk] [unk] [unk] [unk] [unk] [unk] [unk] [unk] [unk] [unk] [unk] [unk] [unk] [unk] [unk] [unk] [unk] [unk] [unk] [unk] [unk] [unk] [unk] [unk] [unk] [unk] [unk] [unk] [unk] [unk] [unk] [unk] [unk] [unk] [unk] [unk] [unk] [unk] [unk] [unk] [unk] [unk] [unk] [unk] [unk] [unk] [unk] [unk] [unk] [unk] [unk] [unk] [unk] [unk] [unk] [unk] [unk] [unk] [unk] [unk] [unk] [unk] [unk] [unk] [unk] [unk] [unk] [unk] [unk] [unk] [unk] [unk] [unk] [unk] [unk] [unk] [unk] [unk] [unk] [unk] [unk] [unk] [unk] [unk] [unk] [unk] [unk] [unk] [unk] [unk] [unk] [unk] [unk] [unk] [unk] [unk] [unk] [unk] [unk] [unk] [unk] [unk] [unk] [unk] [unk] [unk] [unk] [unk] [unk] [unk] [unk] [unk] [unk] [unk] [unk] [unk] [unk] [unk] [unk] [unk] [unk] [unk] [unk] [unk] [unk] [unk] [unk] [unk] [unk] [unk] [unk] [unk] [unk] [unk] [unk] [unk] [unk] [unk] [unk] [unk] [unk] [unk] [unk] [unk] [unk] [unk] [unk] [unk] [unk] [unk] [unk] [unk] [unk] [unk] [unk] [unk] [unk] [unk] [unk] [unk] [unk] [unk] [unk] [unk] [unk] [unk] [unk] [unk] [unk] [unk] [unk] [unk] [unk] [unk] [unk] [unk] [unk] [unk] [unk] [unk] [unk] [unk] [unk] [unk] [unk] [unk] [unk] [unk] [unk] [unk] [unk] [unk] [unk] [unk] [unk] [unk] [unk]'"
      ]
     },
     "execution_count": 12,
     "metadata": {},
     "output_type": "execute_result"
    }
   ],
   "source": [
    "' '.join(imdb_dataset.vocab.lookup_tokens(text.tolist()))"
   ]
  },
  {
   "cell_type": "code",
   "execution_count": null,
   "metadata": {},
   "outputs": [],
   "source": []
  }
 ],
 "metadata": {
  "interpreter": {
   "hash": "04d690e986a1773c1da7e9b3081964a7d67cb32385cd4ca1004dd8ef2e7dcdd8"
  },
  "kernelspec": {
   "display_name": "Python 3.8.12 ('d2l')",
   "language": "python",
   "name": "python3"
  },
  "language_info": {
   "codemirror_mode": {
    "name": "ipython",
    "version": 3
   },
   "file_extension": ".py",
   "mimetype": "text/x-python",
   "name": "python",
   "nbconvert_exporter": "python",
   "pygments_lexer": "ipython3",
   "version": "3.8.12"
  },
  "orig_nbformat": 4
 },
 "nbformat": 4,
 "nbformat_minor": 2
}
